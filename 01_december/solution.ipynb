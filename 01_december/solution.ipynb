{
 "cells": [
  {
   "cell_type": "markdown",
   "metadata": {},
   "source": [
    "## December 1st\n",
    "#### Challenge - part one:\n",
    "\n",
    "Throughout the Chief's office, the historically significant locations are listed not by name but by a unique number called the location ID. To make sure they don't miss anything, The Historians split into two groups, each searching the office and trying to create their own complete list of location IDs.\n",
    "\n",
    "There's just one problem: by holding the two lists up side by side (your puzzle input), it quickly becomes clear that the lists aren't very similar. Maybe you can help The Historians reconcile their lists?\n",
    "\n",
    "Maybe the lists are only off by a small amount! To find out, pair up the numbers and measure how far apart they are. Pair up the smallest number in the left list with the smallest number in the right list, then the second-smallest left number with the second-smallest right number, and so on.\n",
    "\n",
    "Within each pair, figure out how far apart the two numbers are; you'll need to add up all of those distances. For example, if you pair up a 3 from the left list with a 7 from the right list, the distance apart is 4; if you pair up a 9 with a 3, the distance apart is 6.\n",
    "\n",
    "Your actual left and right lists contain many location IDs. What is the total distance between your lists?\n",
    "\n",
    "#### Challenge - part two:\n",
    "\n",
    "Your analysis only confirmed what everyone feared: the two lists of location IDs are indeed very different.\n",
    "\n",
    "Or are they?\n",
    "\n",
    "The Historians can't agree on which group made the mistakes or how to read most of the Chief's handwriting, but in the commotion you notice an interesting detail: a lot of location IDs appear in both lists! Maybe the other numbers aren't location IDs at all but rather misinterpreted handwriting.\n",
    "\n",
    "This time, you'll need to figure out exactly how often each number from the left list appears in the right list. Calculate a total similarity score by adding up each number in the left list after multiplying it by the number of times that number appears in the right list.\n",
    "\n",
    "Once again consider your left and right lists. What is their similarity score?"
   ]
  },
  {
   "cell_type": "code",
   "execution_count": 9,
   "metadata": {},
   "outputs": [
    {
     "name": "stdout",
     "output_type": "stream",
     "text": [
      "Part one: 1879048\n",
      "Part two: 21024792\n"
     ]
    }
   ],
   "source": [
    "import numpy as np\n",
    "\n",
    "class AdventDayOne:\n",
    "\n",
    "    def __init__(self, input_path=\"./input/input.txt\"):\n",
    "        try:\n",
    "            with open(input_path) as f:\n",
    "                self.list_one, self.list_two = map(list, zip(*(map(int, line.split()) for line in f if len(line.split()) == 2)))\n",
    "        except FileNotFoundError:\n",
    "            print(f\"Error: File not found at {input_path}.\")\n",
    "\n",
    "        self.part_one = 0\n",
    "        self.part_two = 0\n",
    "\n",
    "    def solve_part_one(self):\n",
    "        \"\"\"\n",
    "        Solves part one of the daily challenge\n",
    "        \"\"\"\n",
    "        self.part_one = np.sum(\n",
    "            np.abs(\n",
    "                np.subtract(\n",
    "                    np.sort(self.list_one),\n",
    "                    np.sort(self.list_two)\n",
    "                )\n",
    "            )\n",
    "        )\n",
    "    \n",
    "    def solve_part_two(self):\n",
    "        \"\"\"\n",
    "        Solves part two of the daily challenge\n",
    "        \"\"\"\n",
    "        for i in self.list_one:\n",
    "            appearances_in_list_two = self.list_two.count(i)\n",
    "            self.part_two += i * appearances_in_list_two\n",
    "\n",
    "    def solve(self):\n",
    "        \"\"\"\n",
    "        Solves both parts at once.\n",
    "        \"\"\"\n",
    "        self.solve_part_one()\n",
    "        self.solve_part_two()\n",
    "\n",
    "        return self.part_one, self.part_two\n",
    "\n",
    "if __name__ == '__main__':\n",
    "    solver = AdventDayOne()\n",
    "    part_one, part_two = solver.solve()\n",
    "    print(\"Part one:\", part_one)\n",
    "    print(\"Part two:\", part_two)"
   ]
  }
 ],
 "metadata": {
  "kernelspec": {
   "display_name": "Python 3",
   "language": "python",
   "name": "python3"
  },
  "language_info": {
   "codemirror_mode": {
    "name": "ipython",
    "version": 3
   },
   "file_extension": ".py",
   "mimetype": "text/x-python",
   "name": "python",
   "nbconvert_exporter": "python",
   "pygments_lexer": "ipython3",
   "version": "3.9.6"
  }
 },
 "nbformat": 4,
 "nbformat_minor": 2
}
