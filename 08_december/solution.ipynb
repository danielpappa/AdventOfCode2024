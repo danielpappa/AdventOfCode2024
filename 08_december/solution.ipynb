{
 "cells": [
  {
   "cell_type": "markdown",
   "metadata": {},
   "source": [
    "### December 1st\n",
    "#### Challenge - part one:\n",
    "\n",
    "Scanning across the city, you find that there are actually many such antennas. Each antenna is tuned to a specific frequency indicated by a single lowercase letter, uppercase letter, or digit. You create a map (your puzzle input) of these antennas.\n",
    "\n",
    "The signal only applies its nefarious effect at specific antinodes based on the resonant frequencies of the antennas. In particular, an antinode occurs at any point that is perfectly in line with two antennas of the same frequency - but only when one of the antennas is twice as far away as the other. This means that for any pair of antennas with the same frequency, there are two antinodes, one on either side of them.\n",
    "\n",
    "Antennas with different frequencies don't create antinodes; A and a count as different frequencies. However, antinodes can occur at locations that contain antennas.\n",
    "\n",
    "Calculate the impact of the signal. How many unique locations within the bounds of the map contain an antinode?\n",
    "\n",
    "#### Challenge - part two:\n",
    "\n",
    "Watching over your shoulder as you work, one of The Historians asks if you took the effects of resonant harmonics into your calculations.\n",
    "\n",
    "Whoops!\n",
    "\n",
    "After updating your model, it turns out that an antinode occurs at any grid position exactly in line with at least two antennas of the same frequency, regardless of distance. This means that some of the new antinodes will occur at the position of each antenna (unless that antenna is the only one of its frequency).\n",
    "\n",
    "Calculate the impact of the signal using this updated model. How many unique locations within the bounds of the map contain an antinode?"
   ]
  },
  {
   "cell_type": "code",
   "execution_count": 7,
   "metadata": {},
   "outputs": [
    {
     "name": "stdout",
     "output_type": "stream",
     "text": [
      "Part one: 413\n",
      "Part two: 1417\n"
     ]
    }
   ],
   "source": [
    "import numpy as np\n",
    "\n",
    "class AdventDayEight:\n",
    "\n",
    "    def __init__(self, input_path=\"./input/input.txt\"):\n",
    "        try:\n",
    "            with open(input_path) as f:\n",
    "                self.grid = {i+j*1j:c for i, r in enumerate(f) for j, c in enumerate(r.strip())}\n",
    "        except FileNotFoundError:\n",
    "            print(f\"Error: File not found at {input_path}.\")\n",
    "\n",
    "        self.part_one = 0\n",
    "        self.part_two = 0\n",
    "        \n",
    "    def solve_part_one(self):\n",
    "        \"\"\"\n",
    "        Solves part one of the daily challenge\n",
    "        \"\"\"\n",
    "        set_of_antinodes = set()\n",
    "        for x in self.grid:\n",
    "            for y in self.grid:\n",
    "                if x != y and self.grid[x] == self.grid[y] != \".\": # find all antennae in the grid with the same frequency\n",
    "                    # calculate position of new antinode: each pair of antennae has two antinodes and since we are using a nested loop\n",
    "                    # both will eventually be calculated; note: some will be out of bounds, for now this is fine\n",
    "                    new_antinode = 2*x -y\n",
    "                    set_of_antinodes.add(new_antinode)\n",
    "        \n",
    "        antinodes_within_bounds = self.grid.keys() & set_of_antinodes # gets rid of all antinodes found out of bounds\n",
    "        self.part_one = len(antinodes_within_bounds) \n",
    "    \n",
    "    def solve_part_two(self):\n",
    "        \"\"\"\n",
    "        Solves part two of the daily challenge\n",
    "        \"\"\"\n",
    "        set_of_antinodes = set()\n",
    "        for i in range(int(np.sqrt(len(self.grid)))):\n",
    "            for x in self.grid:\n",
    "                for y in self.grid:\n",
    "                    if x != y and self.grid[x] == self.grid[y] != \".\": # find all antennae in the grid with the same frequency\n",
    "                    # calculate position of new antinode: each pair of antennae has antinodes in two different directions and since we are using a nested loop\n",
    "                    # both will eventually be calculated; note: some will be out of bounds, for now this is fine\n",
    "                        new_antinode = x + i*(x - y) # multiplying by i finds all antinodes along the line, not just the equally distanced ones\n",
    "                        set_of_antinodes.add(new_antinode)\n",
    "            \n",
    "        antinodes_within_bounds = self.grid.keys() & set_of_antinodes # gets rid of all antinodes found out of bounds\n",
    "        self.part_two = len(antinodes_within_bounds)\n",
    "\n",
    "    def solve(self):\n",
    "        \"\"\"\n",
    "        Solves both parts at once.\n",
    "        \"\"\"\n",
    "        self.solve_part_one()\n",
    "        self.solve_part_two()\n",
    "\n",
    "        return self.part_one, self.part_two\n",
    "\n",
    "if __name__ == '__main__':\n",
    "    solver = AdventDayEight()\n",
    "    part_one, part_two = solver.solve()\n",
    "    print(\"Part one:\", part_one)\n",
    "    print(\"Part two:\", part_two)"
   ]
  }
 ],
 "metadata": {
  "kernelspec": {
   "display_name": "Python 3",
   "language": "python",
   "name": "python3"
  },
  "language_info": {
   "codemirror_mode": {
    "name": "ipython",
    "version": 3
   },
   "file_extension": ".py",
   "mimetype": "text/x-python",
   "name": "python",
   "nbconvert_exporter": "python",
   "pygments_lexer": "ipython3",
   "version": "3.9.6"
  }
 },
 "nbformat": 4,
 "nbformat_minor": 2
}
