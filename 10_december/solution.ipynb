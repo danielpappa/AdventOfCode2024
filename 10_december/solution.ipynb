{
 "cells": [
  {
   "cell_type": "markdown",
   "metadata": {},
   "source": [
    "### December 1st\n",
    "#### Challenge - part one:\n",
    "The reindeer is holding a book titled \"Lava Island Hiking Guide\". However, when you open the book, you discover that most of it seems to have been scorched by lava! As you're about to ask how you can help, the reindeer brings you a blank topographic map of the surrounding area (your puzzle input) and looks up at you excitedly.\n",
    "\n",
    "Perhaps you can help fill in the missing hiking trails?\n",
    "\n",
    "The topographic map indicates the height at each position using a scale from 0 (lowest) to 9 (highest).\n",
    "\n",
    "Based on un-scorched scraps of the book, you determine that a good hiking trail is as long as possible and has an even, gradual, uphill slope. For all practical purposes, this means that a hiking trail is any path that starts at height 0, ends at height 9, and always increases by a height of exactly 1 at each step. Hiking trails never include diagonal steps - only up, down, left, or right (from the perspective of the map).\n",
    "\n",
    "You look up from the map and notice that the reindeer has helpfully begun to construct a small pile of pencils, markers, rulers, compasses, stickers, and other equipment you might need to update the map with hiking trails.\n",
    "\n",
    "A trailhead is any position that starts one or more hiking trails - here, these positions will always have height 0. Assembling more fragments of pages, you establish that a trailhead's score is the number of 9-height positions reachable from that trailhead via a hiking trail.\n",
    "\n",
    "The reindeer gleefully carries over a protractor and adds it to the pile. What is the sum of the scores of all trailheads on your topographic map?\n",
    "#### Challenge - part two:\n",
    "The reindeer spends a few minutes reviewing your hiking trail map before realizing something, disappearing for a few minutes, and finally returning with yet another slightly-charred piece of paper.\n",
    "\n",
    "The paper describes a second way to measure a trailhead called its rating. A trailhead's rating is the number of distinct hiking trails which begin at that trailhead.\n",
    "\n",
    "You're not sure how, but the reindeer seems to have crafted some tiny flags out of toothpicks and bits of paper and is using them to mark trailheads on your topographic map. What is the sum of the ratings of all trailheads?"
   ]
  },
  {
   "cell_type": "code",
   "execution_count": 3,
   "metadata": {},
   "outputs": [
    {
     "name": "stdout",
     "output_type": "stream",
     "text": [
      "Part one: 1875\n",
      "Part two: 841\n"
     ]
    }
   ],
   "source": [
    "class AdventDayTen:\n",
    "\n",
    "    def __init__(self, input_path=\"./input/input.txt\"):\n",
    "        try:\n",
    "            with open(input_path) as f:\n",
    "                self.grid = {i+j*1j: int(c) for i, r in enumerate(f.readlines()) for j, c in enumerate(r.strip())}\n",
    "        except FileNotFoundError:\n",
    "            print(f\"Error: File not found at {input_path}.\")\n",
    "\n",
    "        self.part_one = 0\n",
    "        self.part_two = 0\n",
    "        \n",
    "    def solve_part_one(self):\n",
    "        \"\"\"\n",
    "        Solves part one of the daily challenge\n",
    "        \"\"\"\n",
    "        trailheads = [t for t in self.grid if self.grid[t] == 0]\n",
    "        for i in range(1, 10):\n",
    "            trailheads = [t + d for t in trailheads for d in (1, -1, 1j, -1j) if self.grid.get(t + d) == i]\n",
    "        self.part_one = len(trailheads)\n",
    "    \n",
    "    def solve_part_two(self):\n",
    "        \"\"\"\n",
    "        Solves part two of the daily challenge\n",
    "        \"\"\"\n",
    "        def search(pos, seen, height=0):\n",
    "            if pos in self.grid and self.grid[pos] == height:\n",
    "                if height < 9 or pos in seen:\n",
    "                    return sum(search(pos + d, seen, height + 1) for d in (1, -1, 1j, -1j))\n",
    "                seen.add(pos)\n",
    "                return 1\n",
    "            return 0\n",
    "        \n",
    "        self.part_two = sum(search(pos, set()) for pos in self.grid if self.grid[pos] == 0)\n",
    "\n",
    "    def solve(self):\n",
    "        \"\"\"\n",
    "        Solves both parts at once.\n",
    "        \"\"\"\n",
    "        self.solve_part_one()\n",
    "        self.solve_part_two()\n",
    "\n",
    "        return self.part_one, self.part_two\n",
    "\n",
    "if __name__ == '__main__':\n",
    "    solver = AdventDayTen()\n",
    "    part_one, part_two = solver.solve()\n",
    "    print(\"Part one:\", part_one)\n",
    "    print(\"Part two:\", part_two)"
   ]
  }
 ],
 "metadata": {
  "kernelspec": {
   "display_name": "Python 3",
   "language": "python",
   "name": "python3"
  },
  "language_info": {
   "codemirror_mode": {
    "name": "ipython",
    "version": 3
   },
   "file_extension": ".py",
   "mimetype": "text/x-python",
   "name": "python",
   "nbconvert_exporter": "python",
   "pygments_lexer": "ipython3",
   "version": "3.9.6"
  }
 },
 "nbformat": 4,
 "nbformat_minor": 2
}
