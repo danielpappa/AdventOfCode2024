{
 "cells": [
  {
   "cell_type": "markdown",
   "metadata": {},
   "source": [
    "### December 1st\n",
    "#### Challenge - part one:\n",
    "#### Challenge - part two:"
   ]
  },
  {
   "cell_type": "code",
   "execution_count": null,
   "metadata": {},
   "outputs": [],
   "source": [
    "class AdventDayTen:\n",
    "\n",
    "    def __init__(self, input_path=\"./input/input.txt\"):\n",
    "        try:\n",
    "            with open(input_path) as f:\n",
    "                self.grid = {i+j*1j:c for i, r in enumerate(f) for j, c in enumerate(r.strip())}\n",
    "        except FileNotFoundError:\n",
    "            print(f\"Error: File not found at {input_path}.\")\n",
    "\n",
    "        self.part_one = 0\n",
    "        self.part_two = 0\n",
    "        \n",
    "    def solve_part_one(self):\n",
    "        \"\"\"\n",
    "        Solves part one of the daily challenge\n",
    "        \"\"\"\n",
    "    \n",
    "    def solve_part_two(self):\n",
    "        \"\"\"\n",
    "        Solves part two of the daily challenge\n",
    "        \"\"\"\n",
    "\n",
    "    def solve(self):\n",
    "        \"\"\"\n",
    "        Solves both parts at once.\n",
    "        \"\"\"\n",
    "        self.solve_part_one()\n",
    "        self.solve_part_two()\n",
    "\n",
    "        return self.part_one, self.part_two\n",
    "\n",
    "if __name__ == '__main__':\n",
    "    solver = AdventDayTen()\n",
    "    part_one, part_two = solver.solve()\n",
    "    print(\"Part one:\", part_one)\n",
    "    print(\"Part two:\", part_two)"
   ]
  }
 ],
 "metadata": {
  "kernelspec": {
   "display_name": "Python 3",
   "language": "python",
   "name": "python3"
  },
  "language_info": {
   "codemirror_mode": {
    "name": "ipython",
    "version": 3
   },
   "file_extension": ".py",
   "mimetype": "text/x-python",
   "name": "python",
   "nbconvert_exporter": "python",
   "pygments_lexer": "ipython3",
   "version": "3.9.6"
  }
 },
 "nbformat": 4,
 "nbformat_minor": 2
}
