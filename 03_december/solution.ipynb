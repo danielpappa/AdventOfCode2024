{
 "cells": [
  {
   "cell_type": "markdown",
   "metadata": {},
   "source": [
    "### December 3rd\n",
    "#### Challenge - part one:\n",
    "\n",
    "The computer appears to be trying to run a program, but its memory (your puzzle input) is corrupted. All of the instructions have been jumbled up!\n",
    "\n",
    "It seems like the goal of the program is just to multiply some numbers. It does that with instructions like mul(X,Y), where X and Y are each 1-3 digit numbers. For instance, mul(44,46) multiplies 44 by 46 to get a result of 2024. Similarly, mul(123,4) would multiply 123 by 4.\n",
    "\n",
    "However, because the program's memory has been corrupted, there are also many invalid characters that should be ignored, even if they look like part of a mul instruction. Sequences like mul(4*, mul(6,9!, ?(12,34), or mul ( 2 , 4 ) do nothing.\n",
    "\n",
    "Scan the corrupted memory for uncorrupted mul instructions. What do you get if you add up all of the results of the multiplications?\n",
    "\n",
    "#### Challenge - part two:\n",
    "\n",
    "As you scan through the corrupted memory, you notice that some of the conditional statements are also still intact. If you handle some of the uncorrupted conditional statements in the program, you might be able to get an even more accurate result.\n",
    "\n",
    "There are two new instructions you'll need to handle:\n",
    "\n",
    "The do() instruction enables future mul instructions.\n",
    "The don't() instruction disables future mul instructions.\n",
    "Only the most recent do() or don't() instruction applies. At the beginning of the program, mul instructions are enabled.\n",
    "\n",
    "Handle the new instructions; what do you get if you add up all of the results of just the enabled multiplications?"
   ]
  },
  {
   "cell_type": "code",
   "execution_count": 4,
   "metadata": {},
   "outputs": [
    {
     "name": "stdout",
     "output_type": "stream",
     "text": [
      "Part one: 175615763\n",
      "Part two: 74361272\n"
     ]
    }
   ],
   "source": [
    "import re\n",
    "\n",
    "class AdventDayThree:\n",
    "\n",
    "    def __init__(self, input_path=\"./input/input.txt\"):\n",
    "        try:\n",
    "            with open(input_path) as f:\n",
    "                self.input = f.read()\n",
    "        except FileNotFoundError:\n",
    "            print(f\"Error: File not found at {input_path}.\")\n",
    "        \n",
    "        self.pattern = r\"mul\\([0-9]+,[0-9]+\\)\"\n",
    "\n",
    "        self.part_one = 0\n",
    "        self.part_two = 0\n",
    "\n",
    "    def solve_part_one(self):\n",
    "        \"\"\"\n",
    "        Solves part one of the daily challenge\n",
    "        \"\"\"\n",
    "        to_mult = re.findall(self.pattern, self.input)\n",
    "        for match in to_mult:\n",
    "            num1, num2 = map(int, match[4:-1].split(','))\n",
    "            self.part_one += num1 * num2\n",
    "        \n",
    "    \n",
    "    def solve_part_two(self):\n",
    "        \"\"\"\n",
    "        Solves part two of the daily challenge\n",
    "        \"\"\"\n",
    "        dos = [self.input.split(\"don't()\")[0]]\n",
    "        donts = [i.split(\"do()\", maxsplit=1) for i in self.input.split(\"don't()\")]\n",
    "        for dont in donts:\n",
    "            if len(dont) > 1:\n",
    "                dos.append(dont[1:])\n",
    "\n",
    "        to_mult = re.findall(self.pattern, str(dos))\n",
    "        for match in to_mult:\n",
    "            num1, num2 = map(int, match[4:-1].split(','))\n",
    "            self.part_two += num1 * num2\n",
    "        \n",
    "\n",
    "    def solve(self):\n",
    "        \"\"\"\n",
    "        Solves both parts at once.\n",
    "        \"\"\"\n",
    "        self.solve_part_one()\n",
    "        self.solve_part_two()\n",
    "\n",
    "        return self.part_one, self.part_two\n",
    "\n",
    "if __name__ == '__main__':\n",
    "    solver = AdventDayThree()\n",
    "    part_one, part_two = solver.solve()\n",
    "    print(\"Part one:\", part_one)\n",
    "    print(\"Part two:\", part_two)"
   ]
  }
 ],
 "metadata": {
  "kernelspec": {
   "display_name": "Python 3",
   "language": "python",
   "name": "python3"
  },
  "language_info": {
   "codemirror_mode": {
    "name": "ipython",
    "version": 3
   },
   "file_extension": ".py",
   "mimetype": "text/x-python",
   "name": "python",
   "nbconvert_exporter": "python",
   "pygments_lexer": "ipython3",
   "version": "3.9.6"
  }
 },
 "nbformat": 4,
 "nbformat_minor": 2
}
