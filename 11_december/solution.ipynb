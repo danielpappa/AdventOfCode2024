{
 "cells": [
  {
   "cell_type": "markdown",
   "metadata": {},
   "source": [
    "### December 1st\n",
    "#### Challenge - part one:\n",
    "The ancient civilization on Pluto was known for its ability to manipulate spacetime, and while The Historians explore their infinite corridors, you've noticed a strange set of physics-defying stones.\n",
    "\n",
    "At first glance, they seem like normal stones: they're arranged in a perfectly straight line, and each stone has a number engraved on it.\n",
    "\n",
    "The strange part is that every time you blink, the stones change.\n",
    "\n",
    "Sometimes, the number engraved on a stone changes. Other times, a stone might split in two, causing all the other stones to shift over a bit to make room in their perfectly straight line.\n",
    "\n",
    "As you observe them for a while, you find that the stones have a consistent behavior. Every time you blink, the stones each simultaneously change according to the first applicable rule in this list:\n",
    "\n",
    "If the stone is engraved with the number 0, it is replaced by a stone engraved with the number 1.\n",
    "If the stone is engraved with a number that has an even number of digits, it is replaced by two stones. The left half of the digits are engraved on the new left stone, and the right half of the digits are engraved on the new right stone. (The new numbers don't keep extra leading zeroes: 1000 would become stones 10 and 0.)\n",
    "If none of the other rules apply, the stone is replaced by a new stone; the old stone's number multiplied by 2024 is engraved on the new stone.\n",
    "No matter how the stones change, their order is preserved, and they stay on their perfectly straight line.\n",
    "\n",
    "How will the stones evolve if you keep blinking at them? You take a note of the number engraved on each stone in the line (your puzzle input).\n",
    "\n",
    "Consider the arrangement of stones in front of you. How many stones will you have after blinking 25 times?\n",
    "\n",
    "#### Challenge - part two:\n",
    "The Historians sure are taking a long time. To be fair, the infinite corridors are very large.\n",
    "\n",
    "How many stones would you have after blinking a total of 75 times?"
   ]
  },
  {
   "cell_type": "code",
   "execution_count": 3,
   "metadata": {},
   "outputs": [
    {
     "name": "stdout",
     "output_type": "stream",
     "text": [
      "Part one: 209412\n",
      "Part two: 248967696501656\n"
     ]
    }
   ],
   "source": [
    "class AdventDayEleven:\n",
    "\n",
    "    def __init__(self, input_path=\"./input/input.txt\"):\n",
    "        try:\n",
    "            with open(input_path) as f:\n",
    "                self.stones = list(map(int, f.readline().strip().split()))\n",
    "        except FileNotFoundError:\n",
    "            print(f\"Error: File not found at {input_path}.\")\n",
    "\n",
    "        self.part_one = 0\n",
    "        self.part_two = 0\n",
    "\n",
    "    def solve(self):\n",
    "        \"\"\"\n",
    "        Solves both parts at once.\n",
    "        \"\"\"\n",
    "        memory = {}\n",
    "        def solve_with_memory(stone, blinks):\n",
    "            if blinks == 0:\n",
    "                return 1\n",
    "            elif (stone, blinks) in memory:\n",
    "                return  memory[(stone, blinks)]\n",
    "            elif stone == 0:\n",
    "                val = solve_with_memory(1, blinks - 1)\n",
    "            elif len(str_stone := str(stone)) % 2 == 0:\n",
    "                mid = len(str_stone) // 2\n",
    "                val = solve_with_memory(int(str_stone[:mid]), blinks - 1) + solve_with_memory(int(str_stone[mid:]), blinks - 1)\n",
    "            else:\n",
    "                val = solve_with_memory(stone * 2024, blinks - 1)\n",
    "            memory[(stone, blinks)] = val\n",
    "            return val\n",
    "        \n",
    "        self.part_one = sum(solve_with_memory(stone, 25) for stone in self.stones)\n",
    "        self.part_two = sum(solve_with_memory(stone, 75) for stone in self.stones)\n",
    "\n",
    "        return self.part_one, self.part_two\n",
    "\n",
    "if __name__ == '__main__':\n",
    "    solver = AdventDayEleven()\n",
    "    part_one, part_two = solver.solve()\n",
    "    print(\"Part one:\", part_one)\n",
    "    print(\"Part two:\", part_two)"
   ]
  }
 ],
 "metadata": {
  "kernelspec": {
   "display_name": "Python 3",
   "language": "python",
   "name": "python3"
  },
  "language_info": {
   "codemirror_mode": {
    "name": "ipython",
    "version": 3
   },
   "file_extension": ".py",
   "mimetype": "text/x-python",
   "name": "python",
   "nbconvert_exporter": "python",
   "pygments_lexer": "ipython3",
   "version": "3.9.6"
  }
 },
 "nbformat": 4,
 "nbformat_minor": 2
}
