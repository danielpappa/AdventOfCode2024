{
 "cells": [
  {
   "cell_type": "markdown",
   "metadata": {},
   "source": [
    "### December 5th\n",
    "#### Challenge - part one:\n",
    "Safety protocols clearly indicate that new pages for the safety manuals must be printed in a very specific order. The notation X|Y means that if both page number X and page number Y are to be produced as part of an update, page number X must be printed at some point before page number Y.\n",
    "\n",
    "The Elf has for you both the page ordering rules and the pages to produce in each update (your puzzle input), but can't figure out whether each update has the pages in the right order.\n",
    "\n",
    "The first section specifies the page ordering rules, one per line. For example, 47|53, means that if an update includes both page number 47 and page number 53, then page number 47 must be printed at some point before page number 53. (47 doesn't necessarily need to be immediately before 53; other pages are allowed to be between them.)\n",
    "\n",
    "The second section specifies the page numbers of each update. Because most safety manuals are different, the pages needed in the updates are different too. For example, 75,47,61,53,29, means that the update consists of page numbers 75, 47, 61, 53, and 29.\n",
    "\n",
    "To get the printers going as soon as possible, start by identifying which updates are already in the right order.\n",
    "\n",
    "For some reason, the Elves also need to know the middle page number of each update being printed. Because you are currently only printing the correctly-ordered updates, you will need to find the middle page number of each correctly-ordered update. \n",
    "\n",
    "Determine which updates are already in the correct order. What do you get if you add up the middle page number from those correctly-ordered updates?\n",
    "\n",
    "#### Challenge - part two:\n",
    "While the Elves get to work printing the correctly-ordered updates, you have a little time to fix the rest of them.\n",
    "\n",
    "For each of the incorrectly-ordered updates, use the page ordering rules to put the page numbers in the right order.\n",
    "\n",
    "Find the updates which are not in the correct order. What do you get if you add up the middle page numbers after correctly ordering just those updates?"
   ]
  },
  {
   "cell_type": "code",
   "execution_count": 14,
   "metadata": {},
   "outputs": [
    {
     "name": "stdout",
     "output_type": "stream",
     "text": [
      "Part one: 6384\n",
      "Part two: 5353\n"
     ]
    }
   ],
   "source": [
    "from functools import cmp_to_key\n",
    "\n",
    "class AdventDayFive:\n",
    "\n",
    "    def __init__(self, input_path=\"./input/input.txt\"):\n",
    "        try:\n",
    "            with open(input_path) as f:\n",
    "                self.rules, self.updates = f.read().split(\"\\n\\n\")\n",
    "        except FileNotFoundError:\n",
    "            print(f\"Error: File not found at {input_path}.\")\n",
    "\n",
    "        self.sorted_updates = []\n",
    "\n",
    "        self.part_one = 0\n",
    "        self.part_two = 0\n",
    "\n",
    "    def order_with_rules(self):\n",
    "        \"\"\"Order the updates based on the specified rules\"\"\"\n",
    "        for update in self.updates.split():\n",
    "            cmp = cmp_to_key(lambda previous, following: -(previous+\"|\"+following in self.rules))\n",
    "            self.sorted_updates.append(sorted(update.split(\",\"), key=cmp))\n",
    "        \n",
    "    def solve(self):\n",
    "        \"\"\"\n",
    "        Solves part one and part two of the daily challenge\n",
    "        \"\"\"\n",
    "        self.order_with_rules()\n",
    "        for idx, update in enumerate(self.updates.split()):\n",
    "            update = update.split(\",\")\n",
    "            true_middle_value = int(self.sorted_updates[idx][len(self.sorted_updates[idx]) // 2])\n",
    "            if update == self.sorted_updates[idx]:\n",
    "                self.part_one += true_middle_value\n",
    "            else:\n",
    "                self.part_two += true_middle_value\n",
    "        return self.part_one, self.part_two\n",
    "\n",
    "if __name__ == '__main__':\n",
    "    solver = AdventDayFive()\n",
    "    part_one, part_two = solver.solve()\n",
    "    print(\"Part one:\", part_one)\n",
    "    print(\"Part two:\", part_two)"
   ]
  }
 ],
 "metadata": {
  "kernelspec": {
   "display_name": "Python 3",
   "language": "python",
   "name": "python3"
  },
  "language_info": {
   "codemirror_mode": {
    "name": "ipython",
    "version": 3
   },
   "file_extension": ".py",
   "mimetype": "text/x-python",
   "name": "python",
   "nbconvert_exporter": "python",
   "pygments_lexer": "ipython3",
   "version": "3.9.6"
  }
 },
 "nbformat": 4,
 "nbformat_minor": 2
}
